{
 "cells": [
  {
   "cell_type": "code",
   "execution_count": 4,
   "metadata": {},
   "outputs": [],
   "source": [
    "# Note: you may need to run the following in administrator mode in Windows, esp if you had to install spacy's language models\n",
    "# as admin.  See the README for details.\n",
    "%reload_ext autoreload\n",
    "%autoreload 2\n",
    "%matplotlib inline\n",
    "\n",
    "from fastai.learner import *\n",
    "\n",
    "import torchtext\n",
    "import spacy\n",
    "from torchtext import vocab, data\n",
    "from torchtext.datasets import language_modeling\n",
    "\n",
    "from fastai.rnn_reg import *\n",
    "from fastai.rnn_train import *\n",
    "from fastai.nlp import *\n",
    "from fastai.lm_rnn import *\n",
    "\n",
    "from lyricsmaster import LyricWiki\n",
    "import random"
   ]
  },
  {
   "cell_type": "markdown",
   "metadata": {},
   "source": [
    "## Settings"
   ]
  },
  {
   "cell_type": "code",
   "execution_count": 2,
   "metadata": {},
   "outputs": [],
   "source": [
    "artist = \"Modest Mouse\" #Change this depending on the artist you want to target\n",
    "\n",
    "# You may need to change these variables\n",
    "test_portion = 0.1 #What fraction of the artist's songs do you want to use as the test set?\n",
    "bs = 8\n",
    "bptt = 70\n",
    "em_sz = 200  # size of each embedding vector\n",
    "nh = 500     # number of hidden activations per layer\n",
    "nl = 3       # number of layers"
   ]
  },
  {
   "cell_type": "code",
   "execution_count": 3,
   "metadata": {},
   "outputs": [
    {
     "name": "stdout",
     "output_type": "stream",
     "text": [
      "Anonymous requests disabled. The connexion will not be anonymous.\n",
      "Downloading Blue Cadet-3, Do You Connect?\n",
      "Blue Cadet-3, Do You Connect? succesfully downloaded\n",
      "Downloading Interstate 8\n",
      "Interstate 8 succesfully downloaded\n",
      "Downloading This is a Long Drive for Someone with Nothing to Think About\n",
      "This is a Long Drive for Someone with Nothing to Think About succesfully downloaded\n",
      "Downloading The Fruit That Ate Itself\n",
      "The Fruit That Ate Itself succesfully downloaded\n",
      "Downloading The Lonesome Crowded West\n",
      "The Lonesome Crowded West succesfully downloaded\n",
      "Downloading Whenever You See Fit\n",
      "Whenever You See Fit succesfully downloaded\n",
      "Downloading Building Nothing Out of Something\n",
      "Building Nothing Out of Something succesfully downloaded\n",
      "Downloading Night on the Sun\n",
      "Night on the Sun succesfully downloaded\n",
      "Downloading The Moon & Antarctica\n",
      "The Moon & Antarctica succesfully downloaded\n",
      "Downloading Sad Sappy Sucker\n",
      "Sad Sappy Sucker succesfully downloaded\n",
      "Downloading Everywhere and His Nasty Parlour Tricks\n",
      "Everywhere and His Nasty Parlour Tricks succesfully downloaded\n",
      "Downloading Baron von Bullshit Rides Again\n",
      "Baron von Bullshit Rides Again succesfully downloaded\n",
      "Downloading Good News for People Who Love Bad News\n",
      "Good News for People Who Love Bad News succesfully downloaded\n",
      "Downloading We Were Dead Before the Ship Even Sank\n",
      "We Were Dead Before the Ship Even Sank succesfully downloaded\n",
      "Downloading No One's First, and You're Next\n",
      "No One's First, and You're Next succesfully downloaded\n",
      "Downloading White Lies, Yellow Teeth\n",
      "White Lies, Yellow Teeth succesfully downloaded\n",
      "Downloading Too Many Fiestas for Rueben\n",
      "Too Many Fiestas for Rueben succesfully downloaded\n",
      "Downloading Strangers to Ourselves\n",
      "Strangers to Ourselves succesfully downloaded\n",
      "Downloading Single\n",
      "Single succesfully downloaded\n",
      "Downloading Unrelease\n",
      "Unrelease succesfully downloaded\n",
      "Downloading Other Song\n",
      "Other Song succesfully downloaded\n"
     ]
    }
   ],
   "source": [
    "#Download Songs\n",
    "provider = LyricWiki()\n",
    "discography = provider.get_lyrics(artist)"
   ]
  },
  {
   "cell_type": "code",
   "execution_count": 5,
   "metadata": {},
   "outputs": [],
   "source": [
    "text = []\n",
    "for album in discography:\n",
    "    for song in album:\n",
    "        text.append(song.lyrics)"
   ]
  },
  {
   "cell_type": "code",
   "execution_count": 79,
   "metadata": {},
   "outputs": [],
   "source": [
    "random.shuffle(text)\n",
    "split = round(test_portion*len(text))\n",
    "train = pd.DataFrame()\n",
    "test = pd.DataFrame()\n",
    "test['text'] = text[0:split]\n",
    "train['text'] = text[split:]"
   ]
  },
  {
   "cell_type": "code",
   "execution_count": 8,
   "metadata": {},
   "outputs": [
    {
     "data": {
      "text/html": [
       "<div>\n",
       "<style scoped>\n",
       "    .dataframe tbody tr th:only-of-type {\n",
       "        vertical-align: middle;\n",
       "    }\n",
       "\n",
       "    .dataframe tbody tr th {\n",
       "        vertical-align: top;\n",
       "    }\n",
       "\n",
       "    .dataframe thead th {\n",
       "        text-align: right;\n",
       "    }\n",
       "</style>\n",
       "<table border=\"1\" class=\"dataframe\">\n",
       "  <thead>\n",
       "    <tr style=\"text-align: right;\">\n",
       "      <th></th>\n",
       "      <th>text</th>\n",
       "    </tr>\n",
       "  </thead>\n",
       "  <tbody>\n",
       "    <tr>\n",
       "      <th>0</th>\n",
       "      <td>Well I just found the fence where I am going t...</td>\n",
       "    </tr>\n",
       "    <tr>\n",
       "      <th>1</th>\n",
       "      <td>Sometimes all I really want to feel is love\\nS...</td>\n",
       "    </tr>\n",
       "    <tr>\n",
       "      <th>2</th>\n",
       "      <td>Traveling, swallowing Dramamine\\nFeeling space...</td>\n",
       "    </tr>\n",
       "    <tr>\n",
       "      <th>3</th>\n",
       "      <td>As long as you're gone, I can't apologize\\nFor...</td>\n",
       "    </tr>\n",
       "    <tr>\n",
       "      <th>4</th>\n",
       "      <td>Well, Cowboy Dan's a major player in the cowbo...</td>\n",
       "    </tr>\n",
       "  </tbody>\n",
       "</table>\n",
       "</div>"
      ],
      "text/plain": [
       "                                                text\n",
       "0  Well I just found the fence where I am going t...\n",
       "1  Sometimes all I really want to feel is love\\nS...\n",
       "2  Traveling, swallowing Dramamine\\nFeeling space...\n",
       "3  As long as you're gone, I can't apologize\\nFor...\n",
       "4  Well, Cowboy Dan's a major player in the cowbo..."
      ]
     },
     "execution_count": 8,
     "metadata": {},
     "output_type": "execute_result"
    }
   ],
   "source": [
    "train.head()"
   ]
  },
  {
   "cell_type": "code",
   "execution_count": 9,
   "metadata": {},
   "outputs": [
    {
     "data": {
      "text/html": [
       "<div>\n",
       "<style scoped>\n",
       "    .dataframe tbody tr th:only-of-type {\n",
       "        vertical-align: middle;\n",
       "    }\n",
       "\n",
       "    .dataframe tbody tr th {\n",
       "        vertical-align: top;\n",
       "    }\n",
       "\n",
       "    .dataframe thead th {\n",
       "        text-align: right;\n",
       "    }\n",
       "</style>\n",
       "<table border=\"1\" class=\"dataframe\">\n",
       "  <thead>\n",
       "    <tr style=\"text-align: right;\">\n",
       "      <th></th>\n",
       "      <th>text</th>\n",
       "    </tr>\n",
       "  </thead>\n",
       "  <tbody>\n",
       "    <tr>\n",
       "      <th>0</th>\n",
       "      <td>Although we'd often wondered, it was no thing ...</td>\n",
       "    </tr>\n",
       "    <tr>\n",
       "      <th>1</th>\n",
       "      <td>You were laying on the carpet\\nLike you're sat...</td>\n",
       "    </tr>\n",
       "    <tr>\n",
       "      <th>2</th>\n",
       "      <td>We were shootin' at a mound of dirt\\nWell, not...</td>\n",
       "    </tr>\n",
       "    <tr>\n",
       "      <th>3</th>\n",
       "      <td>We're lucky that\\nWe're lucky that we slept\\nD...</td>\n",
       "    </tr>\n",
       "    <tr>\n",
       "      <th>4</th>\n",
       "      <td>Gonna dance hall, dance hall everyday\\nI'm gon...</td>\n",
       "    </tr>\n",
       "  </tbody>\n",
       "</table>\n",
       "</div>"
      ],
      "text/plain": [
       "                                                text\n",
       "0  Although we'd often wondered, it was no thing ...\n",
       "1  You were laying on the carpet\\nLike you're sat...\n",
       "2  We were shootin' at a mound of dirt\\nWell, not...\n",
       "3  We're lucky that\\nWe're lucky that we slept\\nD...\n",
       "4  Gonna dance hall, dance hall everyday\\nI'm gon..."
      ]
     },
     "execution_count": 9,
     "metadata": {},
     "output_type": "execute_result"
    }
   ],
   "source": [
    "test.head()"
   ]
  },
  {
   "cell_type": "code",
   "execution_count": 10,
   "metadata": {},
   "outputs": [
    {
     "data": {
      "text/plain": [
       "(181, 20)"
      ]
     },
     "execution_count": 10,
     "metadata": {},
     "output_type": "execute_result"
    }
   ],
   "source": [
    "len(train), len(test)"
   ]
  },
  {
   "cell_type": "code",
   "execution_count": 11,
   "metadata": {},
   "outputs": [
    {
     "name": "stderr",
     "output_type": "stream",
     "text": [
      "D:\\Anaconda3\\envs\\fastai\\lib\\importlib\\_bootstrap.py:219: RuntimeWarning: numpy.dtype size changed, may indicate binary incompatibility. Expected 96, got 88\n",
      "  return f(*args, **kwds)\n",
      "D:\\Anaconda3\\envs\\fastai\\lib\\importlib\\_bootstrap.py:219: RuntimeWarning: numpy.ufunc size changed, may indicate binary incompatibility. Expected 192, got 176\n",
      "  return f(*args, **kwds)\n"
     ]
    }
   ],
   "source": [
    "TEXTS = data.Field(lower=True, tokenize=\"spacy\")"
   ]
  },
  {
   "cell_type": "code",
   "execution_count": 80,
   "metadata": {},
   "outputs": [],
   "source": [
    "#def from_dataframes(cls, path, field, col, train_df, val_df, test_df=None, bs=64, bptt=70, **kwargs):\n",
    "#See: https://github.com/fastai/fastai/blob/master/fastai/nlp.py\n",
    "md = LanguageModelData.from_dataframes(path=\"./\", field=TEXTS, col='text',train_df=train,val_df=test,\\\n",
    "                                       test_df=test,bs=bs, bptt=bptt)"
   ]
  },
  {
   "cell_type": "code",
   "execution_count": 81,
   "metadata": {},
   "outputs": [],
   "source": [
    "opt_fn = partial(optim.Adam, betas=(0.7, 0.99))"
   ]
  },
  {
   "cell_type": "code",
   "execution_count": 91,
   "metadata": {},
   "outputs": [],
   "source": [
    "learner = md.get_model(opt_fn, em_sz, nh, nl,\n",
    "               dropouti=0.10, dropout=0.10, wdrop=0.45, dropoute=0.2, dropouth=0.125)\n",
    "learner.reg_fn = partial(seq2seq_reg, alpha=2, beta=1)\n",
    "learner.clip=0.3"
   ]
  },
  {
   "cell_type": "code",
   "execution_count": 83,
   "metadata": {},
   "outputs": [
    {
     "data": {
      "application/vnd.jupyter.widget-view+json": {
       "model_id": "18b10b4fc6bd4971ba2906daa88981d8",
       "version_major": 2,
       "version_minor": 0
      },
      "text/plain": [
       "HBox(children=(IntProgress(value=0, description='Epoch', max=1), HTML(value='')))"
      ]
     },
     "metadata": {},
     "output_type": "display_data"
    },
    {
     "name": "stdout",
     "output_type": "stream",
     "text": [
      "                                                                                                                       \r"
     ]
    }
   ],
   "source": [
    "learner.lr_find()"
   ]
  },
  {
   "cell_type": "code",
   "execution_count": 84,
   "metadata": {},
   "outputs": [
    {
     "data": {
      "image/png": "[encoded data removed]",
      "text/plain": [
       "<Figure size 432x288 with 1 Axes>"
      ]
     },
     "metadata": {},
     "output_type": "display_data"
    }
   ],
   "source": [
    "learner.sched.plot_lr()"
   ]
  },
  {
   "cell_type": "code",
   "execution_count": 85,
   "metadata": {},
   "outputs": [
    {
     "data": {
      "image/png": "[encoded data removed]",
      "text/plain": [
       "<Figure size 432x288 with 1 Axes>"
      ]
     },
     "metadata": {},
     "output_type": "display_data"
    }
   ],
   "source": [
    "learner.sched.plot()"
   ]
  },
  {
   "cell_type": "code",
   "execution_count": 65,
   "metadata": {},
   "outputs": [],
   "source": [
    "lr = 1e-2"
   ]
  },
  {
   "cell_type": "code",
   "execution_count": 92,
   "metadata": {},
   "outputs": [
    {
     "data": {
      "application/vnd.jupyter.widget-view+json": {
       "model_id": "d272fbd89b7b40c6ab7d764083ec37a1",
       "version_major": 2,
       "version_minor": 0
      },
      "text/plain": [
       "HBox(children=(IntProgress(value=0, description='Epoch', max=13), HTML(value='')))"
      ]
     },
     "metadata": {},
     "output_type": "display_data"
    },
    {
     "name": "stdout",
     "output_type": "stream",
     "text": [
      "epoch      trn_loss   val_loss                                                                                         \n",
      "    0      6.014169   5.951005  \n",
      "    1      5.730171   5.81323                                                                                          \n",
      "    2      5.537157   5.704039                                                                                         \n",
      "    3      5.436423   5.682993                                                                                         \n",
      "    4      5.349975   5.559585                                                                                         \n",
      "    5      5.17045    5.445415                                                                                         \n",
      "    6      5.025129   5.402701                                                                                         \n",
      "    7      4.913526   5.375944                                                                                         \n",
      "    8      4.777602   5.347584                                                                                         \n",
      "    9      4.719349   5.332287                                                                                         \n",
      "    10     4.660989   5.324056                                                                                         \n",
      "    11     4.650487   5.306786                                                                                         \n",
      "    12     4.636631   5.318924                                                                                         \n"
     ]
    },
    {
     "data": {
      "text/plain": [
       "[array([5.31892])]"
      ]
     },
     "execution_count": 92,
     "metadata": {},
     "output_type": "execute_result"
    }
   ],
   "source": [
    "learner.fit(lr, 3, wds=1e-6, cycle_len=1, cycle_mult=3)\n",
    "#Note: if you get an error, try reducing the batch size!\n",
    "#Feel free to terminate training prematurely if val_loss isn't improving"
   ]
  },
  {
   "cell_type": "code",
   "execution_count": 42,
   "metadata": {},
   "outputs": [],
   "source": [
    "learner.save_encoder('adam1_enc')\n",
    "learner.load_encoder('adam1_enc')"
   ]
  },
  {
   "cell_type": "code",
   "execution_count": 43,
   "metadata": {},
   "outputs": [
    {
     "data": {
      "application/vnd.jupyter.widget-view+json": {
       "model_id": "d28911022e684df69cd8c7ed1e94d82b",
       "version_major": 2,
       "version_minor": 0
      },
      "text/plain": [
       "HBox(children=(IntProgress(value=0, description='Epoch', max=20), HTML(value='')))"
      ]
     },
     "metadata": {},
     "output_type": "display_data"
    },
    {
     "name": "stdout",
     "output_type": "stream",
     "text": [
      "epoch      trn_loss   val_loss                                                                                         \n",
      "    0      3.207572   5.356482  \n",
      "    1      3.303996   5.373846                                                                                         \n",
      "    2      3.1975     5.473306                                                                                         \n",
      "    3      3.07694    5.482422                                                                                         \n",
      "    4      2.93815    5.547036                                                                                         \n",
      "    5      2.89259    5.41021                                                                                          \n",
      "    6      2.74774    5.509189                                                                                         \n",
      "    7      2.648563   5.503933                                                                                         \n",
      "    8      2.550657   5.584746                                                                                         \n",
      "    9      2.509071   5.483669                                                                                         \n",
      "    10     2.404408   5.608889                                                                                         \n",
      "    11     2.349882   5.51382                                                                                          \n",
      "    12     2.276772   5.649521                                                                                         \n",
      "    13     2.219843   5.639799                                                                                         \n",
      "    14     2.208313   5.592539                                                                                         \n",
      "    15     2.153138   5.563427                                                                                         \n",
      "    16     2.136941   5.5431                                                                                           \n",
      "    17     2.167276   5.555103                                                                                         \n",
      "    18     2.147162   5.517878                                                                                         \n",
      "    19     2.155177   5.515333                                                                                         \n"
     ]
    },
    {
     "data": {
      "text/plain": [
       "[array([5.51533])]"
      ]
     },
     "execution_count": 43,
     "metadata": {},
     "output_type": "execute_result"
    }
   ],
   "source": [
    "learner.fit(lr, 1, wds=1e-6, cycle_len=20)\n",
    "#Feel free to terminate training prematurely if val_loss isn't improving"
   ]
  },
  {
   "cell_type": "markdown",
   "metadata": {},
   "source": [
    "## Set your \"seed string\" below\n",
    "(Or leave it as the default if you want it to pick a random post from your test set.)"
   ]
  },
  {
   "cell_type": "code",
   "execution_count": 93,
   "metadata": {},
   "outputs": [],
   "source": [
    "#ss = random.choice(test['text'])\n",
    "ss=\"\"\"rat \"\"\""
   ]
  },
  {
   "cell_type": "code",
   "execution_count": 94,
   "metadata": {},
   "outputs": [],
   "source": [
    "#Testing\n",
    "spacy_tok = spacy.load('en')\n",
    "m=learner.model\n",
    "s = [spacy_tok(ss)]\n",
    "t=TEXTS.numericalize(s)\n",
    "' '.join(str(s[0]))\n",
    "# Set batch size to 1\n",
    "m[0].bs=1\n",
    "# Turn off dropout\n",
    "m.eval()\n",
    "# Reset hidden state\n",
    "m.reset()\n",
    "# Get predictions from model\n",
    "res,*_ = m(t)\n",
    "# Put the batch size back to what it was\n",
    "m[0].bs=bs"
   ]
  },
  {
   "cell_type": "code",
   "execution_count": 89,
   "metadata": {},
   "outputs": [
    {
     "data": {
      "text/plain": [
       "['\\n', ',', 'to', ')', 'of', 'the', 'and', '\\n\\n ', \"n't\", 'on']"
      ]
     },
     "execution_count": 89,
     "metadata": {},
     "output_type": "execute_result"
    }
   ],
   "source": [
    "nexts = torch.topk(res[-1], 10)[1]\n",
    "[TEXTS.vocab.itos[o] for o in to_np(nexts)]"
   ]
  },
  {
   "cell_type": "code",
   "execution_count": 90,
   "metadata": {},
   "outputs": [
    {
     "name": "stdout",
     "output_type": "stream",
     "text": [
      "rat  \n",
      "\n",
      "\n",
      " i 'm n't the the the \n",
      " and i 'll n't the the \n",
      " and i 'll n't to \n",
      " i 'll 'll n't to \n",
      " i 'll 'll n't to \n",
      " i 'll 'll n't to \n",
      " i 'll 'll n't to \n",
      " i 'll 'll n't to ...\n"
     ]
    }
   ],
   "source": [
    "print(ss,\"\\n\")\n",
    "for i in range(50):\n",
    "    n=res[-1].topk(2)[1]\n",
    "    n = n[1] if n.data[0]==0 else n[0]\n",
    "    print(TEXTS.vocab.itos[n.data[0]], end=' ')\n",
    "    res,*_ = m(n[0].unsqueeze(0))\n",
    "print('...')"
   ]
  },
  {
   "cell_type": "code",
   "execution_count": null,
   "metadata": {},
   "outputs": [],
   "source": []
  }
 ],
 "metadata": {
  "kernelspec": {
   "display_name": "fastAI custom",
   "language": "python",
   "name": "fastai"
  },
  "language_info": {
   "codemirror_mode": {
    "name": "ipython",
    "version": 3
   },
   "file_extension": ".py",
   "mimetype": "text/x-python",
   "name": "python",
   "nbconvert_exporter": "python",
   "pygments_lexer": "ipython3",
   "version": "3.6.5"
  }
 },
 "nbformat": 4,
 "nbformat_minor": 2
}
